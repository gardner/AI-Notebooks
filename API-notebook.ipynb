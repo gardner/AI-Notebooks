{
  "cells": [
    {
      "cell_type": "markdown",
      "metadata": {
        "id": "MFQl6-FjSYtY"
      },
      "source": [
        "# oobabooga API notebook\n",
        "\n",
        "Run all the cells and a public gradio URL will appear at the bottom in around 5 minutes.\n",
        "\n",
        "## Parameters\n",
        "\n",
        "* **load_in_8bit**: loads the model with 8-bit precision, reducing the GPU memory usage by half. This allows you to use the full 2048 prompt length without running out of memory, at a small accuracy and speed cost.\n"
      ]
    },
    {
      "cell_type": "code",
      "execution_count": null,
      "metadata": {
        "id": "f7TVVj_z4flw"
      },
      "outputs": [],
      "source": [
        "#@title 1. Keep this tab alive to prevent Colab from disconnecting you { display-mode: \"form\" }\n",
        "\n",
        "#@markdown Press play on the music player that will appear below:\n",
        "%%html\n",
        "<audio src=\"https://oobabooga.github.io/silence.m4a\" controls>"
      ]
    },
    {
      "cell_type": "code",
      "execution_count": null,
      "metadata": {
        "cellView": "form",
        "id": "LGQ8BiMuXMDG"
      },
      "outputs": [],
      "source": [
        "#@title 2. Install the web UI\n",
        "\n",
        "%cd /content\n",
        "!git clone https://github.com/oobabooga/text-generation-webui\n",
        "\n",
        "!ln -s text-generation-webui/models .\n",
        "%rm -r sample_data\n",
        "%cd text-generation-webui\n",
        "\n",
        "# Install requirements\n",
        "!python3 -m pip install --upgrade pip\n",
        "!python3 -m pip install -r requirements.txt\n",
        "!python3 -m pip install -r extensions/api/requirements.txt"
      ]
    },
    {
      "cell_type": "code",
      "execution_count": null,
      "metadata": {
        "cellView": "form",
        "id": "hKuocueuXnm5"
      },
      "outputs": [],
      "source": [
        "#@title 3. Launch\n",
        "\n",
        "# Download the model (if it hasn't been downloaded already)\n",
        "![[ ! -f \"models/vicuna-13b-GPTQ-4bit-128g/config.json\" ]] && python download-model.py anon8231489123/vicuna-13b-GPTQ-4bit-128g\n",
        "\n",
        "params = set()\n",
        "params.add('--verbose')\n",
        "params.add('--no-stream')\n",
        "# if load_in_8bit:\n",
        "#   params.add('--load-in-8bit')\n",
        "\n",
        "# Starting the web UI\n",
        "cmd = f\"python server.py --share --model anon8231489123_vicuna-13b-GPTQ-4bit-128g {' '.join(params)} --extensions api\"\n",
        "print(cmd)\n",
        "!$cmd"
      ]
    }
  ],
  "metadata": {
    "accelerator": "GPU",
    "colab": {
      "private_outputs": true,
      "provenance": []
    },
    "gpuClass": "standard",
    "kernelspec": {
      "display_name": "Python 3",
      "name": "python3"
    },
    "language_info": {
      "name": "python"
    }
  },
  "nbformat": 4,
  "nbformat_minor": 0
}
