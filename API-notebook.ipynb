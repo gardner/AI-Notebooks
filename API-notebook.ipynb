{
  "nbformat": 4,
  "nbformat_minor": 0,
  "metadata": {
    "colab": {
      "private_outputs": true,
      "provenance": []
    },
    "kernelspec": {
      "name": "python3",
      "display_name": "Python 3"
    },
    "language_info": {
      "name": "python"
    },
    "accelerator": "GPU",
    "gpuClass": "standard"
  },
  "cells": [
    {
      "cell_type": "markdown",
      "source": [
        "# oobabooga API notebook\n",
        "\n",
        "Run all the cells and a public gradio URL will appear at the bottom in around 5 minutes.\n",
        "\n",
        "## Parameters\n",
        "\n",
        "* **load_in_8bit**: loads the model with 8-bit precision, reducing the GPU memory usage by half. This allows you to use the full 2048 prompt length without running out of memory, at a small accuracy and speed cost.\n"
      ],
      "metadata": {
        "id": "MFQl6-FjSYtY"
      }
    },
    {
      "cell_type": "code",
      "source": [
        "#@title 1. Keep this tab alive to prevent Colab from disconnecting you { display-mode: \"form\" }\n",
        "\n",
        "#@markdown Press play on the music player that will appear below:\n",
        "%%html\n",
        "<audio src=\"https://oobabooga.github.io/silence.m4a\" controls>"
      ],
      "metadata": {
        "id": "f7TVVj_z4flw"
      },
      "execution_count": null,
      "outputs": []
    },
    {
      "cell_type": "code",
      "source": [
        "#@title 2. Install the web UI\n",
        "\n",
        "%cd /content\n",
        "!git clone https://github.com/oobabooga/text-generation-webui\n",
        "\n",
        "!ln -s text-generation-webui/models .\n",
        "%rm -r sample_data\n",
        "%cd text-generation-webui\n",
        "\n",
        "# Install requirements\n",
        "!pip install -r requirements.txt"
      ],
      "metadata": {
        "id": "LGQ8BiMuXMDG",
        "cellView": "form"
      },
      "execution_count": null,
      "outputs": []
    },
    {
      "cell_type": "code",
      "source": [
        "#@title 3. Launch\n",
        "\n",
        "# Parameters\n",
        "model = \"Pygmalion 350m (for debugging)\" #@param [\"Pygmalion 6B original (sharded, rehosted)\", \"Pygmalion 6B main (sharded, rehosted)\", \"Pygmalion 6B dev (sharded, rehosted)\", \"Pygmalion 350m (for debugging)\"] {allow-input: false}\n",
        "load_in_8bit = False #@param {type:\"boolean\"}\n",
        "\n",
        "# Data\n",
        "models = {\n",
        "    \"Pygmalion 6B original (sharded, rehosted)\": (\"ayylamo\", \"pygmalion-6b\", \"original-sharded\", \"pygmalion-6b_original-sharded\"),\n",
        "    \"Pygmalion 6B main (sharded, rehosted)\": (\"ayylamo\", \"pygmalion-6b\", \"sharded\", \"pygmalion-6b_sharded\"),\n",
        "    \"Pygmalion 6B dev (sharded, rehosted)\": (\"ayylamo\", \"pygmalion-6b\", \"dev-sharded\", \"pygmalion-6b_dev-sharded\"),\n",
        "    \"Pygmalion 350m (for debugging)\": (\"PygmalionAI\", \"pygmalion-350m\", \"main\", \"pygmalion-350m\"),\n",
        "}\n",
        "\n",
        "# Download the model (if it hasn't been downloaded already)\n",
        "huggingface_org, huggingface_repo, huggingface_branch, model_name = models[model]\n",
        "![[ ! -f models/$model_name/config.json ]] && python download-model.py $huggingface_org/$huggingface_repo --branch $huggingface_branch\n",
        "\n",
        "params = set()\n",
        "params.add('--verbose')\n",
        "params.add('--no-stream')\n",
        "if load_in_8bit:\n",
        "  params.add('--load-in-8bit')\n",
        "\n",
        "# Starting the web UI\n",
        "cmd = f\"python server.py --share --model {model_name} {' '.join(params)}\"\n",
        "print(cmd)\n",
        "!$cmd"
      ],
      "metadata": {
        "id": "hKuocueuXnm5",
        "cellView": "form"
      },
      "execution_count": null,
      "outputs": []
    }
  ]
}